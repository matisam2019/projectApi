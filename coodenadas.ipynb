{
 "cells": [
  {
   "cell_type": "code",
   "execution_count": null,
   "id": "3a5cda88-3302-4b2d-a7d9-4a83adc01452",
   "metadata": {},
   "outputs": [
    {
     "name": "stdout",
     "output_type": "stream",
     "text": [
      "Coordenadas al presionar Esc: x=127, y=389\n",
      "Coordenadas al presionar Esc: x=127, y=389\n",
      "Coordenadas al presionar Esc: x=127, y=389\n",
      "Coordenadas al presionar Esc: x=127, y=389\n",
      "Coordenadas al presionar Esc: x=127, y=389\n"
     ]
    }
   ],
   "source": [
    "from pynput import mouse, keyboard\n",
    "import pyautogui\n",
    "\n",
    "def on_move(x, y):\n",
    "    pass  # Función opcional\n",
    "\n",
    "def on_press(key):\n",
    "    try:\n",
    "        if key == keyboard.Key.esc:\n",
    "            x, y = pyautogui.position()\n",
    "            print(f\"Coordenadas al presionar Esc: x={x}, y={y}\")\n",
    "        elif key.char == '1':\n",
    "            print(\"Programa finalizado.\")\n",
    "            return False  # Detiene el listener\n",
    "    except AttributeError:\n",
    "        pass  # Ignora teclas especiales sin 'char'\n",
    "\n",
    "with mouse.Listener(on_move=on_move) as mouse_listener, \\\n",
    "        keyboard.Listener(on_press=on_press) as keyboard_listener:\n",
    "    mouse_listener.join()\n",
    "    keyboard_listener.join()"
   ]
  },
  {
   "cell_type": "code",
   "execution_count": 1,
   "id": "9b68706b-bed2-4227-b492-dece22cbffdb",
   "metadata": {},
   "outputs": [
    {
     "name": "stdout",
     "output_type": "stream",
     "text": [
      "Esperando 5 segundos...\n",
      "Ejecutando acciones...\n"
     ]
    },
    {
     "ename": "TypeError",
     "evalue": "escribir_texto() got an unexpected keyword argument 'metodo'",
     "output_type": "error",
     "traceback": [
      "\u001b[1;31m---------------------------------------------------------------------------\u001b[0m",
      "\u001b[1;31mTypeError\u001b[0m                                 Traceback (most recent call last)",
      "Cell \u001b[1;32mIn[1], line 27\u001b[0m\n\u001b[0;32m     24\u001b[0m \u001b[38;5;28mprint\u001b[39m(\u001b[38;5;124m\"\u001b[39m\u001b[38;5;124mEjecutando acciones...\u001b[39m\u001b[38;5;124m\"\u001b[39m)  \u001b[38;5;66;03m# Mensaje informativo\u001b[39;00m\n\u001b[0;32m     26\u001b[0m \u001b[38;5;66;03m# Escribir texto en coordenadas específicas\u001b[39;00m\n\u001b[1;32m---> 27\u001b[0m escribir_texto(\u001b[38;5;241m21\u001b[39m, \u001b[38;5;241m554\u001b[39m,\u001b[38;5;124m'\u001b[39m\u001b[38;5;124msparra@jcabrera.cl\u001b[39m\u001b[38;5;124m'\u001b[39m,metodo\u001b[38;5;241m=\u001b[39m\u001b[38;5;124m\"\u001b[39m\u001b[38;5;124mcopy_paste\u001b[39m\u001b[38;5;124m\"\u001b[39m)\n\u001b[0;32m     28\u001b[0m escribir_texto(\u001b[38;5;241m20\u001b[39m, \u001b[38;5;241m634\u001b[39m,\u001b[38;5;124m\"\u001b[39m\u001b[38;5;124mM@ti2711\u001b[39m\u001b[38;5;124m\"\u001b[39m,metodo\u001b[38;5;241m=\u001b[39m\u001b[38;5;124m\"\u001b[39m\u001b[38;5;124mcopy_paste\u001b[39m\u001b[38;5;124m\"\u001b[39m)\n\u001b[0;32m     30\u001b[0m \u001b[38;5;66;03m# Simular la pulsación de Enter en coordenadas específicas\u001b[39;00m\n\u001b[0;32m     31\u001b[0m \u001b[38;5;66;03m#dar_enter(360, 789)\u001b[39;00m\n",
      "\u001b[1;31mTypeError\u001b[0m: escribir_texto() got an unexpected keyword argument 'metodo'"
     ]
    }
   ],
   "source": [
    "import pyautogui\n",
    "import time\n",
    "\n",
    "# Tiempo de espera en segundos (puedes ajustarlo)\n",
    "tiempo_espera = 5\n",
    "\n",
    "# Función para escribir texto en coordenadas específicas\n",
    "def escribir_texto(x, y, texto):\n",
    "    pyautogui.moveTo(x, y)  # Mueve el cursor a las coordenadas\n",
    "    pyautogui.click()  # Simula un clic\n",
    "    pyautogui.typewrite(texto)  # Escribe el texto\n",
    "\n",
    "# Función para simular la pulsación de Enter en coordenadas específicas\n",
    "def dar_enter(x, y):\n",
    "    pyautogui.moveTo(x, y)  # Mueve el cursor a las coordenadas\n",
    "    pyautogui.click()  # Simula un clic\n",
    "    pyautogui.press('enter')  # Simula la pulsación de Enter\n",
    "\n",
    "# Función principal\n",
    "if __name__ == \"__main__\":\n",
    "    print(f\"Esperando {tiempo_espera} segundos...\")  # Mensaje informativo\n",
    "    time.sleep(tiempo_espera)  # Espera el tiempo especificado\n",
    "\n",
    "    print(\"Ejecutando acciones...\")  # Mensaje informativo\n",
    "\n",
    "    # Escribir texto en coordenadas específicas\n",
    "    escribir_texto(21, 554,'sparra@jcabrera.cl',metodo=\"copy_paste\")\n",
    "    escribir_texto(20, 634,\"M@ti2711\",metodo=\"copy_paste\")\n",
    "\n",
    "    # Simular la pulsación de Enter en coordenadas específicas\n",
    "    #dar_enter(360, 789)\n",
    "\n",
    "    print(\"Acciones completadas.\")  # Mensaje informativo"
   ]
  },
  {
   "cell_type": "code",
   "execution_count": 5,
   "id": "387195e2-27d5-4329-ba75-32a66de259a5",
   "metadata": {},
   "outputs": [
    {
     "name": "stdout",
     "output_type": "stream",
     "text": [
      "Esperando 5 segundos...\n",
      "Ejecutando acciones...\n"
     ]
    },
    {
     "ename": "TypeError",
     "evalue": "escribir_texto() got an unexpected keyword argument 'metodo'",
     "output_type": "error",
     "traceback": [
      "\u001b[1;31m---------------------------------------------------------------------------\u001b[0m",
      "\u001b[1;31mTypeError\u001b[0m                                 Traceback (most recent call last)",
      "Cell \u001b[1;32mIn[5], line 27\u001b[0m\n\u001b[0;32m     24\u001b[0m \u001b[38;5;28mprint\u001b[39m(\u001b[38;5;124m\"\u001b[39m\u001b[38;5;124mEjecutando acciones...\u001b[39m\u001b[38;5;124m\"\u001b[39m)  \u001b[38;5;66;03m# Mensaje informativo\u001b[39;00m\n\u001b[0;32m     26\u001b[0m \u001b[38;5;66;03m# Escribir texto en coordenadas específicas\u001b[39;00m\n\u001b[1;32m---> 27\u001b[0m escribir_texto(\u001b[38;5;241m21\u001b[39m, \u001b[38;5;241m554\u001b[39m,\u001b[38;5;124m'\u001b[39m\u001b[38;5;124msparra@jcabrera.cl\u001b[39m\u001b[38;5;124m'\u001b[39m,metodo\u001b[38;5;241m=\u001b[39m\u001b[38;5;124m\"\u001b[39m\u001b[38;5;124mcopy_paste\u001b[39m\u001b[38;5;124m\"\u001b[39m)\n\u001b[0;32m     28\u001b[0m escribir_texto(\u001b[38;5;241m20\u001b[39m, \u001b[38;5;241m634\u001b[39m,\u001b[38;5;124m\"\u001b[39m\u001b[38;5;124mM@ti2711\u001b[39m\u001b[38;5;124m\"\u001b[39m,metodo\u001b[38;5;241m=\u001b[39m\u001b[38;5;124m\"\u001b[39m\u001b[38;5;124mcopy_paste\u001b[39m\u001b[38;5;124m\"\u001b[39m)\n\u001b[0;32m     30\u001b[0m \u001b[38;5;66;03m# Simular la pulsación de Enter en coordenadas específicas\u001b[39;00m\n\u001b[0;32m     31\u001b[0m \u001b[38;5;66;03m#dar_enter(360, 789)\u001b[39;00m\n",
      "\u001b[1;31mTypeError\u001b[0m: escribir_texto() got an unexpected keyword argument 'metodo'"
     ]
    }
   ],
   "source": [
    "import pyautogui\n",
    "import time\n",
    "\n",
    "# Tiempo de espera en segundos (puedes ajustarlo)\n",
    "tiempo_espera = 5\n",
    "\n",
    "# Función para escribir texto en coordenadas específicas\n",
    "def escribir_texto(x, y, texto):\n",
    "    pyautogui.moveTo(x, y)  # Mueve el cursor a las coordenadas\n",
    "    pyautogui.click()  # Simula un clic\n",
    "    pyautogui.typewrite(texto)  # Escribe el texto\n",
    "\n",
    "# Función para simular la pulsación de Enter en coordenadas específicas\n",
    "def dar_enter(x, y):\n",
    "    pyautogui.moveTo(x, y)  # Mueve el cursor a las coordenadas\n",
    "    pyautogui.click()  # Simula un clic\n",
    "    pyautogui.press('enter')  # Simula la pulsación de Enter\n",
    "\n",
    "# Función principal\n",
    "if __name__ == \"__main__\":\n",
    "    print(f\"Esperando {tiempo_espera} segundos...\")  # Mensaje informativo\n",
    "    time.sleep(tiempo_espera)  # Espera el tiempo especificado\n",
    "\n",
    "    print(\"Ejecutando acciones...\")  # Mensaje informativo\n",
    "\n",
    "    # Escribir texto en coordenadas específicas\n",
    "    escribir_texto(21, 554,'sparra@jcabrera.cl',metodo=\"copy_paste\")\n",
    "    escribir_texto(20, 634,\"M@ti2711\",metodo=\"copy_paste\")\n",
    "\n",
    "    # Simular la pulsación de Enter en coordenadas específicas\n",
    "    #dar_enter(360, 789)\n",
    "\n",
    "    print(\"Acciones completadas.\")  # Mensaje informativo"
   ]
  },
  {
   "cell_type": "code",
   "execution_count": 4,
   "id": "84a2f816-60bd-4da9-9d41-baab711fe1a9",
   "metadata": {},
   "outputs": [],
   "source": [
    "import pyautogui\n",
    "import time\n",
    "import pyperclip\n",
    "\n",
    "def escribir_texto(x, y, texto, metodo=\"write\"):\n",
    "    pyautogui.moveTo(x, y)\n",
    "    pyautogui.click()\n",
    "    if metodo == \"write\":\n",
    "        pyautogui.write(texto)\n",
    "    elif metodo == \"copy_paste\":\n",
    "        pyperclip.copy(texto)\n",
    "        pyautogui.hotkey('ctrl', 'v')  # o pyautogui.hotkey('command', 'v') en macOS\n",
    "    elif metodo == \"typewrite_delay\":\n",
    "        for char in texto:\n",
    "            pyautogui.typewrite(char)\n",
    "            time.sleep(0.05)  # Ajusta el retraso según sea necesario\n",
    "\n",
    "if __name__ == \"__main__\":\n",
    "    time.sleep(2)\n",
    "\n",
    "    # Escribir texto usando pyautogui.write()\n",
    "    escribir_texto(21, 554, \"sparra@jcabrera.cl\", metodo=\"write\")\n",
    "\n",
    "    # Escribir texto usando pyperclip (copiar y pegar)\n",
    "    escribir_texto(20, 634, \"M@ti2711\", metodo=\"copy_paste\")\n",
    "\n",
    "    # Escribir texto usando pyautogui.typewrite() con retraso\n",
    "  #  escribir_texto(264, 725, \"Este texto contiene @ y otros caracteres especiales.\", metodo=\"typewrite_delay\")"
   ]
  },
  {
   "cell_type": "code",
   "execution_count": 1,
   "id": "01dc4444-c7a3-477f-b9b2-9cbfe65fba52",
   "metadata": {},
   "outputs": [
    {
     "name": "stdout",
     "output_type": "stream",
     "text": [
      "Esperando 5 segundos...\n",
      "Ejecutando acciones...\n",
      "Acciones completadas.\n"
     ]
    }
   ],
   "source": [
    "import pyautogui\n",
    "import time\n",
    "import pyperclip  # Importa la biblioteca pyperclip\n",
    "\n",
    "# Tiempo de espera en segundos (puedes ajustarlo)\n",
    "tiempo_espera = 5\n",
    "\n",
    "# Función para escribir texto en coordenadas específicas usando copy_paste\n",
    "def escribir_texto(x, y, texto):\n",
    "    pyautogui.moveTo(x, y)  # Mueve el cursor a las coordenadas\n",
    "    pyautogui.click()  # Simula un clic para asegurar que el campo esté activo\n",
    "    pyperclip.copy(texto)  # Copia el texto al portapapeles\n",
    "    pyautogui.hotkey('ctrl', 'v')  # Pega el texto desde el portapapeles (Windows)\n",
    "    # pyautogui.hotkey('command', 'v')  # Para macOS\n",
    "\n",
    "# Función para simular la pulsación de Enter en coordenadas específicas (opcional)\n",
    "def dar_enter(x, y):\n",
    "    pyautogui.moveTo(x, y)  # Mueve el cursor a las coordenadas\n",
    "    pyautogui.click()  # Simula un clic\n",
    "    pyautogui.press('enter')  # Simula la pulsación de Enter\n",
    "\n",
    "# Función principal\n",
    "if __name__ == \"__main__\":\n",
    "    print(f\"Esperando {tiempo_espera} segundos...\")  # Mensaje informativo\n",
    "    time.sleep(tiempo_espera)  # Espera el tiempo especificado\n",
    "\n",
    "    print(\"Ejecutando acciones...\")  # Mensaje informativo\n",
    "\n",
    "    # Escribir texto en coordenadas específicas usando copy_paste\n",
    "    escribir_texto(21, 554, 'sparra@jcabrera.cl')\n",
    "    escribir_texto(20, 634, \"M@ti2711\")\n",
    "\n",
    "    # Simular la pulsación de Enter en coordenadas específicas (opcional)\n",
    "    dar_enter(190, 713)  # Descomenta esta línea si necesitas simular Enter\n",
    "\n",
    "    print(\"Acciones completadas.\")  # Mensaje informativo"
   ]
  },
  {
   "cell_type": "code",
   "execution_count": null,
   "id": "465524e1-e5ee-431b-8644-4a59e4a9d51e",
   "metadata": {},
   "outputs": [],
   "source": []
  },
  {
   "cell_type": "code",
   "execution_count": 1,
   "id": "fda132d7-6c16-431e-9b5d-a0786ccaac0e",
   "metadata": {},
   "outputs": [
    {
     "name": "stdout",
     "output_type": "stream",
     "text": [
      "Esperando 5 segundos...\n",
      "Ejecutando acciones de escritura...\n",
      "Acciones de escritura completadas. Esperando 10 segundos para dar Enter...\n",
      "Simulando Enter...\n"
     ]
    }
   ],
   "source": [
    "import pyautogui\n",
    "import time\n",
    "import pyperclip\n",
    "\n",
    "# Tiempo de espera en segundos (puedes ajustarlo)\n",
    "tiempo_espera = 5\n",
    "\n",
    "# Función para escribir texto usando copy_paste\n",
    "def escribir_texto(x, y, texto):\n",
    "    pyautogui.moveTo(x, y)\n",
    "    pyautogui.click()\n",
    "    pyperclip.copy(texto)\n",
    "    pyautogui.hotkey('ctrl', 'v')  # Windows\n",
    "    # pyautogui.hotkey('command', 'v')  # macOS\n",
    "\n",
    "# Función para simular la pulsación de Enter\n",
    "def dar_enter(x, y):\n",
    "    pyautogui.moveTo(x, y)\n",
    "    pyautogui.click()\n",
    "    pyautogui.press('enter')\n",
    "\n",
    "# Función principal\n",
    "if __name__ == \"__main__\":\n",
    "    print(f\"Esperando {tiempo_espera} segundos...\")\n",
    "    time.sleep(tiempo_espera)\n",
    "\n",
    "    print(\"Ejecutando acciones de escritura...\")\n",
    "\n",
    "    # Escribir texto\n",
    "    escribir_texto(22, 567, 'sparra@jcabrera.cl')\n",
    "    escribir_texto(20, 648, \"M@ti2711\")\n",
    "    dar_enter(229, 712)\n",
    "    print(\"Acciones de escritura completadas. Esperando 10 segundos para dar Enter...\")\n",
    "    time.sleep(10)  # Espera 10 segundos\n",
    "\n",
    "    print(\"Simulando Enter...\")\n",
    "    #dar_enter(1135, 671)\n",
    "\n",
    "    #print(\"Acciones completadas.\")"
   ]
  },
  {
   "cell_type": "code",
   "execution_count": null,
   "id": "fa9980a4-f94e-42e9-aec9-195ba5566f6e",
   "metadata": {},
   "outputs": [
    {
     "name": "stdout",
     "output_type": "stream",
     "text": [
      "Esperando 5 segundos...\n",
      "Ejecutando acciones de escritura...\n",
      "Acciones de escritura completadas. Esperando 10 segundos para dar Enter...\n",
      "Simulando Enter...\n",
      "Acciones completadas.\n"
     ]
    }
   ],
   "source": []
  },
  {
   "cell_type": "code",
   "execution_count": 1,
   "id": "85cd3aa2-dffb-45f2-aa24-d51933a09a51",
   "metadata": {},
   "outputs": [
    {
     "ename": "ModuleNotFoundError",
     "evalue": "No module named 'cv2'",
     "output_type": "error",
     "traceback": [
      "\u001b[1;31m---------------------------------------------------------------------------\u001b[0m",
      "\u001b[1;31mModuleNotFoundError\u001b[0m                       Traceback (most recent call last)",
      "Cell \u001b[1;32mIn[1], line 1\u001b[0m\n\u001b[1;32m----> 1\u001b[0m \u001b[38;5;28;01mimport\u001b[39;00m \u001b[38;5;21;01mcv2\u001b[39;00m\n\u001b[0;32m      2\u001b[0m \u001b[38;5;28;01mimport\u001b[39;00m \u001b[38;5;21;01mnumpy\u001b[39;00m \u001b[38;5;28;01mas\u001b[39;00m \u001b[38;5;21;01mnp\u001b[39;00m\n\u001b[0;32m      3\u001b[0m \u001b[38;5;28;01mimport\u001b[39;00m \u001b[38;5;21;01mpyautogui\u001b[39;00m\n",
      "\u001b[1;31mModuleNotFoundError\u001b[0m: No module named 'cv2'"
     ]
    }
   ],
   "source": [
    "import cv2\n",
    "import numpy as np\n",
    "import pyautogui\n",
    "from PIL import ImageGrab\n",
    "import time\n",
    "\n",
    "def capturar_y_comparar():\n",
    "    # Coordenadas de la región (usando tus puntos)\n",
    "    x1, y1 = 1597, 434  # Punto superior izquierdo\n",
    "    x2, y2 = 1854, 950  # Punto inferior derecho\n",
    "    \n",
    "    frame_anterior = None\n",
    "    contador = 0\n",
    "    \n",
    "    while True:\n",
    "        try:\n",
    "            # Captura la región de la pantalla\n",
    "            region = ImageGrab.grab(bbox=(x1, y1, x2, y2))\n",
    "            frame_actual = np.array(region)\n",
    "            \n",
    "            # Convertir a escala de grises\n",
    "            frame_actual_gris = cv2.cvtColor(frame_actual, cv2.COLOR_RGB2GRAY)\n",
    "            \n",
    "            if frame_anterior is not None:\n",
    "                # Calcular la varianza de la diferencia\n",
    "                diferencia = cv2.absdiff(frame_actual_gris, frame_anterior)\n",
    "                varianza = np.var(diferencia)\n",
    "                \n",
    "                # Si la varianza supera el umbral, guardar la imagen\n",
    "                if varianza > 200:  # Ajusta este umbral según necesites\n",
    "                    nombre_archivo = f\"cambio_{contador}.jpg\"\n",
    "                    cv2.imwrite(nombre_archivo, cv2.cvtColor(frame_actual, cv2.COLOR_RGB2BGR))\n",
    "                    print(f\"Cambio detectado! Varianza: {varianza:.2f} - Guardado como {nombre_archivo}\")\n",
    "                    contador += 1\n",
    "            \n",
    "            # Actualizar frame anterior\n",
    "            frame_anterior = frame_actual_gris\n",
    "            \n",
    "            # Pequeña pausa para no saturar el CPU\n",
    "            time.sleep(0.01)  # Ajusta este valor para controlar la velocidad de captura\n",
    "            \n",
    "            # Opción para salir con la tecla 'q'\n",
    "            if cv2.waitKey(1) & 0xFF == ord('q'):\n",
    "                break\n",
    "                \n",
    "        except KeyboardInterrupt:\n",
    "            print(\"Programa detenido por el usuario\")\n",
    "            break\n",
    "\n",
    "if __name__ == \"__main__\":\n",
    "    print(\"Iniciando monitoreo...\")\n",
    "    print(\"Presiona Ctrl+C para detener\")\n",
    "    capturar_y_comparar()"
   ]
  },
  {
   "cell_type": "code",
   "execution_count": null,
   "id": "3a4c78e7-871e-4637-bbeb-c691b61fbd41",
   "metadata": {},
   "outputs": [],
   "source": []
  }
 ],
 "metadata": {
  "kernelspec": {
   "display_name": "Python (volvo_env)",
   "language": "python",
   "name": "volvo_env"
  },
  "language_info": {
   "codemirror_mode": {
    "name": "ipython",
    "version": 3
   },
   "file_extension": ".py",
   "mimetype": "text/x-python",
   "name": "python",
   "nbconvert_exporter": "python",
   "pygments_lexer": "ipython3",
   "version": "3.11.11"
  }
 },
 "nbformat": 4,
 "nbformat_minor": 5
}
