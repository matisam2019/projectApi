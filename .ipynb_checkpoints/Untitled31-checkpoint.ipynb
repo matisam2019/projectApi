{
 "cells": [
  {
   "cell_type": "code",
   "execution_count": null,
   "id": "a0cbdf5d-e133-413c-917d-8cf4e4926ecb",
   "metadata": {},
   "outputs": [],
   "source": []
  }
 ],
 "metadata": {
  "kernelspec": {
   "display_name": "",
   "name": ""
  },
  "language_info": {
   "name": ""
  }
 },
 "nbformat": 4,
 "nbformat_minor": 5
}
